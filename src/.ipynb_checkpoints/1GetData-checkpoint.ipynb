{
 "cells": [
  {
   "cell_type": "code",
   "execution_count": 10,
   "metadata": {},
   "outputs": [],
   "source": [
    "# libraries\n",
    "import tweepy\n",
    "from tweepy import OAuthHandler\n",
    "import pandas as pd"
   ]
  },
  {
   "cell_type": "code",
   "execution_count": 3,
   "metadata": {},
   "outputs": [
    {
     "name": "stdout",
     "output_type": "stream",
     "text": [
      "Angus\n"
     ]
    }
   ],
   "source": [
    "# setup api variable\n",
    "\n",
    " \n",
    "consumer_key = 'DUVVJmWOX0h44yVhnpPUHnqJt'\n",
    "consumer_secret = '3KU9sMsaytPKaPqqX3Hke4ib181VNFPLsHuvCB7PF1hko45dJ9'\n",
    "access_token = '1043486621956546560-E5n0SwbabNeYdocH79NWoRQrRI0sHA'\n",
    "access_secret = 'CZpkUQhH5aiEIav5a6Gz2UBY6GgMGBpzEufitGNqJggRr'\n",
    " \n",
    "auth = OAuthHandler(consumer_key, consumer_secret)\n",
    "auth.set_access_token(access_token, access_secret)\n",
    " \n",
    "api = tweepy.API(auth)\n",
    "\n",
    "user=api.me()\n",
    "print(user.name)"
   ]
  },
  {
   "cell_type": "code",
   "execution_count": 6,
   "metadata": {},
   "outputs": [
    {
     "name": "stdout",
     "output_type": "stream",
     "text": [
      "RT @fkvknwl: gampang bet ya mutualan di twt. cb di ig, pada sok ngartis semua hilih\n",
      "RT @emmaogreen: Susan Collins has made a big bet that Kavanaugh won't overturn Roe. Her bet will be tested sooner rather than later:\n",
      "https:…\n",
      "RT @rosalindmwhite: A brooch crafted from a fossil bearing mineral &amp; a brooch of moss agate both set in filigree silver frames. A part of a…\n",
      "RT @FTPflame: 2 Years Ago Today:\n",
      "Travis Scott, Young Thug &amp; Quavo performing  “Pick Up The Phone” live at the 2016 BET Hip-Hop Awards https…\n",
      "RT @kai_ashton3: Lmao I bet you still wouldn’t pull up on snoop, French tips or not. https://t.co/mEX8zpdp8L\n",
      "RT @TomFitton: I'm not intimidated by the leftist mobs, but you can bet Senators are.  And you can be sure regular citizens who want to par…\n",
      "RT @Alco_Guerrero: Who wants to bet that by the time The Dream Tour resumes The Mighty MayWard will have another new endorsement? Hehe so b…\n",
      "@peachy_hunnie u bet ur sweet ass shes gonna get her sweet ass thrown away if she does\n",
      "@FoxNews #KavanaughConfirmed\n",
      "\n",
      "Bet I'm right as always.  😎\n",
      "\n",
      "#EnjoyTheShow \n",
      "\n",
      "@realDonaldTrump\n",
      "@LindseyGrahamSC… https://t.co/zsGKZzVUdt\n",
      "#UFC229 \n",
      "\n",
      "1 max stake bet @ 1.56 \n",
      "\n",
      "https://t.co/HibNPLcWru\n",
      "\n",
      "1 medium stake @ 1.36 \n",
      "\n",
      "https://t.co/mo7VHv9PwK\n",
      "\n",
      "Don’t… https://t.co/sHyq0769VI\n"
     ]
    }
   ],
   "source": [
    "# test out iterating over some tweets\n",
    "for tweet in tweepy.Cursor(api.search,q='bet').items(10):\n",
    "    try:\n",
    "        user_id = tweet.user.id\n",
    "        username = tweet.user.screen_name\n",
    "        message = tweet.text\n",
    "        print(tweet.text)\n",
    "    \n",
    "    except tweepy.TweepError as e:\n",
    "        print(e.reason)\n",
    "    except StopIteration:\n",
    "        break"
   ]
  },
  {
   "cell_type": "code",
   "execution_count": 11,
   "metadata": {},
   "outputs": [],
   "source": [
    "tweetsOutput = pd.DataFrame(columns=['user_id','username','text'])"
   ]
  },
  {
   "cell_type": "code",
   "execution_count": 24,
   "metadata": {},
   "outputs": [
    {
     "name": "stderr",
     "output_type": "stream",
     "text": [
      "/home/angus/anaconda3/envs/nlptemplate/lib/python3.6/site-packages/pandas/core/indexes/api.py:107: RuntimeWarning: '<' not supported between instances of 'str' and 'int', sort order is undefined for incomparable objects\n",
      "  result = result.union(other)\n"
     ]
    }
   ],
   "source": [
    "# create dataframe with some tweets\n",
    "for tweet in tweepy.Cursor(api.search,q='bet').items(10):\n",
    "    try:\n",
    "        user_id = tweet.user.id\n",
    "        username = tweet.user.screen_name\n",
    "        message = tweet.text\n",
    "        #print(user_id)\n",
    "        tweetsOutput.append(pd.DataFrame(user_id,username,message))\n",
    "    \n",
    "    except tweepy.TweepError as e:\n",
    "        print(e.reason)\n",
    "    except StopIteration:\n",
    "        break"
   ]
  },
  {
   "cell_type": "code",
   "execution_count": 14,
   "metadata": {},
   "outputs": [
    {
     "data": {
      "text/html": [
       "<div>\n",
       "<style scoped>\n",
       "    .dataframe tbody tr th:only-of-type {\n",
       "        vertical-align: middle;\n",
       "    }\n",
       "\n",
       "    .dataframe tbody tr th {\n",
       "        vertical-align: top;\n",
       "    }\n",
       "\n",
       "    .dataframe thead th {\n",
       "        text-align: right;\n",
       "    }\n",
       "</style>\n",
       "<table border=\"1\" class=\"dataframe\">\n",
       "  <thead>\n",
       "    <tr style=\"text-align: right;\">\n",
       "      <th></th>\n",
       "      <th>user_id</th>\n",
       "      <th>username</th>\n",
       "      <th>text</th>\n",
       "    </tr>\n",
       "  </thead>\n",
       "  <tbody>\n",
       "  </tbody>\n",
       "</table>\n",
       "</div>"
      ],
      "text/plain": [
       "Empty DataFrame\n",
       "Columns: [user_id, username, text]\n",
       "Index: []"
      ]
     },
     "execution_count": 14,
     "metadata": {},
     "output_type": "execute_result"
    }
   ],
   "source": [
    "tweetsOutput"
   ]
  },
  {
   "cell_type": "code",
   "execution_count": 22,
   "metadata": {},
   "outputs": [
    {
     "ename": "AttributeError",
     "evalue": "'ItemIterator' object has no attribute 'text'",
     "output_type": "error",
     "traceback": [
      "\u001b[0;31m---------------------------------------------------------------------------\u001b[0m",
      "\u001b[0;31mAttributeError\u001b[0m                            Traceback (most recent call last)",
      "\u001b[0;32m<ipython-input-22-36bdb4f76d76>\u001b[0m in \u001b[0;36m<module>\u001b[0;34m()\u001b[0m\n\u001b[0;32m----> 1\u001b[0;31m \u001b[0mtest_tweet\u001b[0m \u001b[0;34m=\u001b[0m \u001b[0;34m(\u001b[0m\u001b[0mtweepy\u001b[0m\u001b[0;34m.\u001b[0m\u001b[0mCursor\u001b[0m\u001b[0;34m(\u001b[0m\u001b[0mapi\u001b[0m\u001b[0;34m.\u001b[0m\u001b[0msearch\u001b[0m\u001b[0;34m,\u001b[0m\u001b[0mq\u001b[0m\u001b[0;34m=\u001b[0m\u001b[0;34m'bet'\u001b[0m\u001b[0;34m)\u001b[0m\u001b[0;34m.\u001b[0m\u001b[0mitems\u001b[0m\u001b[0;34m(\u001b[0m\u001b[0;36m1\u001b[0m\u001b[0;34m)\u001b[0m\u001b[0;34m)\u001b[0m\u001b[0;34m.\u001b[0m\u001b[0mtext\u001b[0m\u001b[0;34m\u001b[0m\u001b[0m\n\u001b[0m",
      "\u001b[0;31mAttributeError\u001b[0m: 'ItemIterator' object has no attribute 'text'"
     ]
    }
   ],
   "source": [
    "tweepy.Cursor(api.search,q='bet').items(1)"
   ]
  },
  {
   "cell_type": "code",
   "execution_count": 19,
   "metadata": {},
   "outputs": [
    {
     "ename": "AttributeError",
     "evalue": "'ItemIterator' object has no attribute 'text'",
     "output_type": "error",
     "traceback": [
      "\u001b[0;31m---------------------------------------------------------------------------\u001b[0m",
      "\u001b[0;31mAttributeError\u001b[0m                            Traceback (most recent call last)",
      "\u001b[0;32m<ipython-input-19-21d6b4d94e04>\u001b[0m in \u001b[0;36m<module>\u001b[0;34m()\u001b[0m\n\u001b[0;32m----> 1\u001b[0;31m \u001b[0mprint\u001b[0m\u001b[0;34m(\u001b[0m\u001b[0mtest_tweet\u001b[0m\u001b[0;34m.\u001b[0m\u001b[0mtext\u001b[0m\u001b[0;34m)\u001b[0m\u001b[0;34m\u001b[0m\u001b[0m\n\u001b[0m",
      "\u001b[0;31mAttributeError\u001b[0m: 'ItemIterator' object has no attribute 'text'"
     ]
    }
   ],
   "source": []
  },
  {
   "cell_type": "code",
   "execution_count": null,
   "metadata": {},
   "outputs": [],
   "source": []
  }
 ],
 "metadata": {
  "kernelspec": {
   "display_name": "Python 3",
   "language": "python",
   "name": "python3"
  },
  "language_info": {
   "codemirror_mode": {
    "name": "ipython",
    "version": 3
   },
   "file_extension": ".py",
   "mimetype": "text/x-python",
   "name": "python",
   "nbconvert_exporter": "python",
   "pygments_lexer": "ipython3",
   "version": "3.6.6"
  }
 },
 "nbformat": 4,
 "nbformat_minor": 2
}
